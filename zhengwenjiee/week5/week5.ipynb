{
 "cells": [
  {
   "cell_type": "markdown",
   "metadata": {},
   "source": [
    "#### 打乱一个排好序的list对象 alist， alist=【1，2，3，4，5】"
   ]
  },
  {
   "cell_type": "code",
   "execution_count": 44,
   "metadata": {},
   "outputs": [
    {
     "name": "stdout",
     "output_type": "stream",
     "text": [
      "[3, 1, 2, 4, 5]\n",
      "None\n",
      "[4, 3, 5, 1, 2]\n"
     ]
    }
   ],
   "source": [
    "import random\n",
    "\n",
    "alist = [1,2,3,4,5]\n",
    "\n",
    "random.shuffle(alist)\n",
    "_list = random.shuffle(alist)\n",
    "\n",
    "\n",
    "print(alist) # return origin \n",
    "print(_list) # return None\n",
    "\n",
    "# use sample\n",
    "other_list = random.sample(alist, len(alist))\n",
    "\n",
    "print(other_list) # new list\n"
   ]
  },
  {
   "cell_type": "markdown",
   "metadata": {},
   "source": [
    "----------------\n",
    "\n",
    "# 已知仓库中有若干商品， 以及相应库存， 类似：\n",
    "\n",
    "袜子    10\n",
    "\n",
    "鞋子    20\n",
    "\n",
    "拖鞋    30\n",
    "\n",
    "项链    40\n",
    "\n",
    "    要求 随机  返回 一种商品，要求商品 被返回的概率 与 其库存成正比\n",
    "\n",
    "\n",
    "以上 4.23完成"
   ]
  },
  {
   "cell_type": "code",
   "execution_count": 2,
   "metadata": {},
   "outputs": [],
   "source": [
    "import random\n",
    "# roll unfair dice\n",
    "\n",
    "goods= {\n",
    "    'sock': 10,\n",
    "    'shoes': 20,\n",
    "    'slippers': 30,\n",
    "    'necklace': 40,\n",
    "    'jeans': 100\n",
    "}\n",
    "\n",
    "\n"
   ]
  },
  {
   "cell_type": "code",
   "execution_count": null,
   "metadata": {},
   "outputs": [],
   "source": []
  },
  {
   "cell_type": "code",
   "execution_count": null,
   "metadata": {},
   "outputs": [],
   "source": []
  },
  {
   "cell_type": "code",
   "execution_count": null,
   "metadata": {},
   "outputs": [],
   "source": []
  }
 ],
 "metadata": {
  "kernelspec": {
   "display_name": "Python 3",
   "language": "python",
   "name": "python3"
  },
  "language_info": {
   "codemirror_mode": {
    "name": "ipython",
    "version": 3
   },
   "file_extension": ".py",
   "mimetype": "text/x-python",
   "name": "python",
   "nbconvert_exporter": "python",
   "pygments_lexer": "ipython3",
   "version": "3.6.3"
  }
 },
 "nbformat": 4,
 "nbformat_minor": 2
}
