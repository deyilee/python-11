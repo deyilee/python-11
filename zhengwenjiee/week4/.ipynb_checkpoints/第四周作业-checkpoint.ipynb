{
 "cells": [
  {
   "cell_type": "code",
   "execution_count": 22,
   "metadata": {},
   "outputs": [
    {
     "name": "stdout",
     "output_type": "stream",
     "text": [
      "<class 'list'> 20\n"
     ]
    },
    {
     "data": {
      "text/plain": [
       "[99, 96, 90]"
      ]
     },
     "execution_count": 22,
     "metadata": {},
     "output_type": "execute_result"
    }
   ],
   "source": [
    "import random\n",
    "\n",
    "lst =random.sample(range(100), k=20) \n",
    "\n",
    "print(type(lst), len(lst))\n",
    "\n",
    "def three(lst=None):\n",
    "    if lst != None:\n",
    "        lsted = sorted(lst, reverse=True)\n",
    "        return lsted[:3]\n",
    "          \n",
    "three(lst=lst)"
   ]
  }
 ],
 "metadata": {
  "kernelspec": {
   "display_name": "Python 3",
   "language": "python",
   "name": "python3"
  },
  "language_info": {
   "codemirror_mode": {
    "name": "ipython",
    "version": 3
   },
   "file_extension": ".py",
   "mimetype": "text/x-python",
   "name": "python",
   "nbconvert_exporter": "python",
   "pygments_lexer": "ipython3",
   "version": "3.6.3"
  }
 },
 "nbformat": 4,
 "nbformat_minor": 2
}
