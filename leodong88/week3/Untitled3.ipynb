{
 "cells": [
  {
   "cell_type": "code",
   "execution_count": 7,
   "metadata": {},
   "outputs": [
    {
     "name": "stdout",
     "output_type": "stream",
     "text": [
      "['The', 'two', 'kids,', 'born', 'on', 'Wednesday', 'and', 'Thursday', 'respectively', 'after', 'a', 'natural', 'reproduction', 'process,', 'are', 'strong', 'and', 'in', 'good', 'conditions,', 'according', 'to', 'researchers.', '\"The', 'successful', 'breeding', 'will', 'accelerate', 'the', 'application', 'of', 'clone', 'technology', 'in', 'cashmere', 'goat', 'husbandry,\"', 'said', 'a', 'researcher', 'at', 'the', 'animal', 'breeding', 'base', 'where', 'the', 'kids', 'were', 'born.', 'The', 'father,', 'the', \"world's\", 'first', 'cloned', 'cashmere', 'goat,', 'was', 'born', 'in', 'December', '2016.', 'To', 'test', 'its', 'breeding', 'capabilities2,', 'researchers', 'let', 'it', 'mate', 'with', 'more', 'than', '20', 'female', 'goats', 'and', 'most', 'were', 'impregnated.', 'The', 'superfine', 'cashmere', 'fiber3', 'from', 'the', 'goat', 'is', 'less', 'than', '13.8', 'micrometers', 'thick,', 'much', 'finer', 'than', 'the', 'average', 'of', '15.8', 'micrometers', 'on', 'the', 'famous', 'Erlang', 'Mountain', 'goats', 'in', 'Inner', 'Mongolia.']\n",
      "112\n"
     ]
    }
   ],
   "source": [
    "\n",
    "S1=\"\"\"The two kids, born on Wednesday and Thursday respectively after a natural reproduction process, are strong and in good conditions, according to researchers.\n",
    " \n",
    "\"The successful breeding will accelerate the application of clone technology in cashmere goat husbandry,\" said a researcher at the animal breeding base where the kids were born.\n",
    " \n",
    "The father, the world's first cloned cashmere goat, was born in December 2016. To test its breeding capabilities2, researchers let it mate with more than 20 female goats and most were impregnated.\n",
    " \n",
    "The superfine cashmere fiber3 from the goat is less than 13.8 micrometers thick, much finer than the average of 15.8 micrometers on the famous Erlang Mountain goats in Inner Mongolia.\"\"\"\n",
    "LST=S1.split()\n",
    "s2=len(LST)\n",
    "print(LST)\n",
    "print(s2)"
   ]
  },
  {
   "cell_type": "code",
   "execution_count": 18,
   "metadata": {},
   "outputs": [
    {
     "name": "stdout",
     "output_type": "stream",
     "text": [
      "11\n",
      "0\n"
     ]
    }
   ],
   "source": [
    "lst=[1,2,3,4,5,6,7,8,9]\n",
    "a=int(input())\n",
    "if a in lst:\n",
    "    print(\"1\")\n",
    "else:\n",
    "    print(\"0\")\n",
    "    "
   ]
  },
  {
   "cell_type": "code",
   "execution_count": null,
   "metadata": {
    "collapsed": true
   },
   "outputs": [],
   "source": []
  },
  {
   "cell_type": "code",
   "execution_count": null,
   "metadata": {
    "collapsed": true
   },
   "outputs": [],
   "source": []
  }
 ],
 "metadata": {
  "kernelspec": {
   "display_name": "Python 3",
   "language": "python",
   "name": "python3"
  },
  "language_info": {
   "codemirror_mode": {
    "name": "ipython",
    "version": 3
   },
   "file_extension": ".py",
   "mimetype": "text/x-python",
   "name": "python",
   "nbconvert_exporter": "python",
   "pygments_lexer": "ipython3",
   "version": "3.6.3"
  }
 },
 "nbformat": 4,
 "nbformat_minor": 2
}
